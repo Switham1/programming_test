{
 "cells": [
  {
   "attachments": {},
   "cell_type": "markdown",
   "metadata": {},
   "source": [
    "# 1) Read in datasets"
   ]
  },
  {
   "attachments": {},
   "cell_type": "markdown",
   "metadata": {},
   "source": [
    "#### import libraries"
   ]
  },
  {
   "cell_type": "code",
   "execution_count": 50,
   "metadata": {
    "vscode": {
     "languageId": "r"
    }
   },
   "outputs": [],
   "source": [
    "library(ggplot2)\n",
    "library(readxl)\n",
    "library(dplyr)"
   ]
  },
  {
   "attachments": {},
   "cell_type": "markdown",
   "metadata": {},
   "source": [
    "#### read in files as dataframes"
   ]
  },
  {
   "cell_type": "code",
   "execution_count": 51,
   "metadata": {
    "vscode": {
     "languageId": "r"
    }
   },
   "outputs": [
    {
     "name": "stderr",
     "output_type": "stream",
     "text": [
      "\u001b[1m\u001b[22mNew names:\n",
      "\u001b[36m•\u001b[39m `` -> `...3`\n",
      "\u001b[36m•\u001b[39m `` -> `...4`\n",
      "\u001b[36m•\u001b[39m `` -> `...6`\n",
      "\u001b[36m•\u001b[39m `` -> `...7`\n",
      "\u001b[36m•\u001b[39m `` -> `...9`\n",
      "\u001b[36m•\u001b[39m `` -> `...10`\n",
      "\u001b[36m•\u001b[39m `` -> `...12`\n",
      "\u001b[36m•\u001b[39m `` -> `...13`\n"
     ]
    }
   ],
   "source": [
    "# read in files as dataframes (df)\n",
    "olivieri <- read.csv(\"../data/Olivieri2020_drugz_subset.csv\")\n",
    "\n",
    "# add cell_line column to olivieri df (RPE1-hTERT)\n",
    "olivieri$cell_line <- \"RPE1-hTERT\"\n",
    "\n",
    "#reorder columns to GENE cell_line treatment normZ FDR\n",
    "olivieri <- olivieri[c(\"GENE\", \"cell_line\", \"treatment\", \"normZ\", \"FDR\")]\n",
    "\n",
    "# rename columns to lowercase\n",
    "colnames(olivieri) <- tolower(colnames(olivieri))\n",
    "\n",
    "# read in xlsx, skip first row.\n",
    "hustedt <- read_excel(\"../data/Hustedt et al. 2019 - results - rsob190156supp2.xlsx\", skip = 1)\n"
   ]
  },
  {
   "attachments": {},
   "cell_type": "markdown",
   "metadata": {},
   "source": [
    "#### preprocess hustedt df"
   ]
  },
  {
   "cell_type": "code",
   "execution_count": 52,
   "metadata": {
    "vscode": {
     "languageId": "r"
    }
   },
   "outputs": [
    {
     "data": {
      "text/html": [
       "<table class=\"dataframe\">\n",
       "<caption>A tibble: 6 × 6</caption>\n",
       "<thead>\n",
       "\t<tr><th scope=col>GENE</th><th scope=col>normZ</th><th scope=col>p-value</th><th scope=col>FDR</th><th scope=col>cell_line</th><th scope=col>treatment</th></tr>\n",
       "\t<tr><th scope=col>&lt;chr&gt;</th><th scope=col>&lt;chr&gt;</th><th scope=col>&lt;chr&gt;</th><th scope=col>&lt;chr&gt;</th><th scope=col>&lt;chr&gt;</th><th scope=col>&lt;chr&gt;</th></tr>\n",
       "</thead>\n",
       "<tbody>\n",
       "\t<tr><td>A1BG  </td><td>-0.46              </td><td>0.32400000000000001</td><td>1.1200000000000001 </td><td>RPE1-hTERT</td><td>AZD6738</td></tr>\n",
       "\t<tr><td>A1CF  </td><td>0.54               </td><td>0.70699999999999996</td><td>0.98399999999999999</td><td>RPE1-hTERT</td><td>AZD6738</td></tr>\n",
       "\t<tr><td>A2M   </td><td>0.13               </td><td>0.55000000000000004</td><td>1.02               </td><td>RPE1-hTERT</td><td>AZD6738</td></tr>\n",
       "\t<tr><td>A2ML1 </td><td>-0.25              </td><td>0.40200000000000002</td><td>1.0900000000000001 </td><td>RPE1-hTERT</td><td>AZD6738</td></tr>\n",
       "\t<tr><td>A4GALT</td><td>-1.1299999999999999</td><td>0.129              </td><td>1.27               </td><td>RPE1-hTERT</td><td>AZD6738</td></tr>\n",
       "\t<tr><td>A4GNT </td><td>1.35               </td><td>0.91200000000000003</td><td>0.97099999999999997</td><td>RPE1-hTERT</td><td>AZD6738</td></tr>\n",
       "</tbody>\n",
       "</table>\n"
      ],
      "text/latex": [
       "A tibble: 6 × 6\n",
       "\\begin{tabular}{llllll}\n",
       " GENE & normZ & p-value & FDR & cell\\_line & treatment\\\\\n",
       " <chr> & <chr> & <chr> & <chr> & <chr> & <chr>\\\\\n",
       "\\hline\n",
       "\t A1BG   & -0.46               & 0.32400000000000001 & 1.1200000000000001  & RPE1-hTERT & AZD6738\\\\\n",
       "\t A1CF   & 0.54                & 0.70699999999999996 & 0.98399999999999999 & RPE1-hTERT & AZD6738\\\\\n",
       "\t A2M    & 0.13                & 0.55000000000000004 & 1.02                & RPE1-hTERT & AZD6738\\\\\n",
       "\t A2ML1  & -0.25               & 0.40200000000000002 & 1.0900000000000001  & RPE1-hTERT & AZD6738\\\\\n",
       "\t A4GALT & -1.1299999999999999 & 0.129               & 1.27                & RPE1-hTERT & AZD6738\\\\\n",
       "\t A4GNT  & 1.35                & 0.91200000000000003 & 0.97099999999999997 & RPE1-hTERT & AZD6738\\\\\n",
       "\\end{tabular}\n"
      ],
      "text/markdown": [
       "\n",
       "A tibble: 6 × 6\n",
       "\n",
       "| GENE &lt;chr&gt; | normZ &lt;chr&gt; | p-value &lt;chr&gt; | FDR &lt;chr&gt; | cell_line &lt;chr&gt; | treatment &lt;chr&gt; |\n",
       "|---|---|---|---|---|---|\n",
       "| A1BG   | -0.46               | 0.32400000000000001 | 1.1200000000000001  | RPE1-hTERT | AZD6738 |\n",
       "| A1CF   | 0.54                | 0.70699999999999996 | 0.98399999999999999 | RPE1-hTERT | AZD6738 |\n",
       "| A2M    | 0.13                | 0.55000000000000004 | 1.02                | RPE1-hTERT | AZD6738 |\n",
       "| A2ML1  | -0.25               | 0.40200000000000002 | 1.0900000000000001  | RPE1-hTERT | AZD6738 |\n",
       "| A4GALT | -1.1299999999999999 | 0.129               | 1.27                | RPE1-hTERT | AZD6738 |\n",
       "| A4GNT  | 1.35                | 0.91200000000000003 | 0.97099999999999997 | RPE1-hTERT | AZD6738 |\n",
       "\n"
      ],
      "text/plain": [
       "  GENE   normZ               p-value             FDR                 cell_line \n",
       "1 A1BG   -0.46               0.32400000000000001 1.1200000000000001  RPE1-hTERT\n",
       "2 A1CF   0.54                0.70699999999999996 0.98399999999999999 RPE1-hTERT\n",
       "3 A2M    0.13                0.55000000000000004 1.02                RPE1-hTERT\n",
       "4 A2ML1  -0.25               0.40200000000000002 1.0900000000000001  RPE1-hTERT\n",
       "5 A4GALT -1.1299999999999999 0.129               1.27                RPE1-hTERT\n",
       "6 A4GNT  1.35                0.91200000000000003 0.97099999999999997 RPE1-hTERT\n",
       "  treatment\n",
       "1 AZD6738  \n",
       "2 AZD6738  \n",
       "3 AZD6738  \n",
       "4 AZD6738  \n",
       "5 AZD6738  \n",
       "6 AZD6738  "
      ]
     },
     "metadata": {},
     "output_type": "display_data"
    }
   ],
   "source": [
    "# make new df with columns 1-4\n",
    "hustedt_subset_azd6738 <- hustedt[,c(1, 2, 3, 4)]\n",
    "\n",
    "# make 2nd row the headers\n",
    "colnames(hustedt_subset_azd6738) <- hustedt_subset_azd6738[1, ]\n",
    "\n",
    "# remove 2nd row\n",
    "hustedt_subset_azd6738 <- hustedt_subset_azd6738[-1, ]\n",
    "\n",
    "# add cell_line column equal to RPE1-hTER\n",
    "hustedt_subset_azd6738$cell_line <- \"RPE1-hTERT\"\n",
    "\n",
    "# add treatment column equal to AZD6738\n",
    "hustedt_subset_azd6738$treatment <- \"AZD6738\"\n",
    "\n",
    "# rename column 1 to GENE\n",
    "colnames(hustedt_subset_azd6738)[1] <- \"GENE\"\n",
    "\n",
    "head(hustedt_subset_azd6738)"
   ]
  },
  {
   "attachments": {},
   "cell_type": "markdown",
   "metadata": {},
   "source": [
    "#### preprocess 2nd subset from Hustedt et al. 2019"
   ]
  },
  {
   "cell_type": "code",
   "execution_count": 53,
   "metadata": {
    "vscode": {
     "languageId": "r"
    }
   },
   "outputs": [
    {
     "data": {
      "text/html": [
       "<table class=\"dataframe\">\n",
       "<caption>A tibble: 6 × 6</caption>\n",
       "<thead>\n",
       "\t<tr><th scope=col>GENE</th><th scope=col>normZ</th><th scope=col>p-value</th><th scope=col>FDR</th><th scope=col>cell_line</th><th scope=col>treatment</th></tr>\n",
       "\t<tr><th scope=col>&lt;chr&gt;</th><th scope=col>&lt;chr&gt;</th><th scope=col>&lt;chr&gt;</th><th scope=col>&lt;chr&gt;</th><th scope=col>&lt;chr&gt;</th><th scope=col>&lt;chr&gt;</th></tr>\n",
       "</thead>\n",
       "<tbody>\n",
       "\t<tr><td>A1BG  </td><td>0.32               </td><td>0.626              </td><td>1                  </td><td>RPE1-hTERT</td><td>VE821</td></tr>\n",
       "\t<tr><td>A1CF  </td><td>-1.1000000000000001</td><td>0.13600000000000001</td><td>1.26               </td><td>RPE1-hTERT</td><td>VE821</td></tr>\n",
       "\t<tr><td>A2M   </td><td>0.2                </td><td>0.57899999999999996</td><td>1.02               </td><td>RPE1-hTERT</td><td>VE821</td></tr>\n",
       "\t<tr><td>A2ML1 </td><td>-0.97              </td><td>0.16500000000000001</td><td>1.26               </td><td>RPE1-hTERT</td><td>VE821</td></tr>\n",
       "\t<tr><td>A4GALT</td><td>-0.11              </td><td>0.45500000000000002</td><td>1.07               </td><td>RPE1-hTERT</td><td>VE821</td></tr>\n",
       "\t<tr><td>A4GNT </td><td>0.39               </td><td>0.65200000000000002</td><td>0.99299999999999999</td><td>RPE1-hTERT</td><td>VE821</td></tr>\n",
       "</tbody>\n",
       "</table>\n"
      ],
      "text/latex": [
       "A tibble: 6 × 6\n",
       "\\begin{tabular}{llllll}\n",
       " GENE & normZ & p-value & FDR & cell\\_line & treatment\\\\\n",
       " <chr> & <chr> & <chr> & <chr> & <chr> & <chr>\\\\\n",
       "\\hline\n",
       "\t A1BG   & 0.32                & 0.626               & 1                   & RPE1-hTERT & VE821\\\\\n",
       "\t A1CF   & -1.1000000000000001 & 0.13600000000000001 & 1.26                & RPE1-hTERT & VE821\\\\\n",
       "\t A2M    & 0.2                 & 0.57899999999999996 & 1.02                & RPE1-hTERT & VE821\\\\\n",
       "\t A2ML1  & -0.97               & 0.16500000000000001 & 1.26                & RPE1-hTERT & VE821\\\\\n",
       "\t A4GALT & -0.11               & 0.45500000000000002 & 1.07                & RPE1-hTERT & VE821\\\\\n",
       "\t A4GNT  & 0.39                & 0.65200000000000002 & 0.99299999999999999 & RPE1-hTERT & VE821\\\\\n",
       "\\end{tabular}\n"
      ],
      "text/markdown": [
       "\n",
       "A tibble: 6 × 6\n",
       "\n",
       "| GENE &lt;chr&gt; | normZ &lt;chr&gt; | p-value &lt;chr&gt; | FDR &lt;chr&gt; | cell_line &lt;chr&gt; | treatment &lt;chr&gt; |\n",
       "|---|---|---|---|---|---|\n",
       "| A1BG   | 0.32                | 0.626               | 1                   | RPE1-hTERT | VE821 |\n",
       "| A1CF   | -1.1000000000000001 | 0.13600000000000001 | 1.26                | RPE1-hTERT | VE821 |\n",
       "| A2M    | 0.2                 | 0.57899999999999996 | 1.02                | RPE1-hTERT | VE821 |\n",
       "| A2ML1  | -0.97               | 0.16500000000000001 | 1.26                | RPE1-hTERT | VE821 |\n",
       "| A4GALT | -0.11               | 0.45500000000000002 | 1.07                | RPE1-hTERT | VE821 |\n",
       "| A4GNT  | 0.39                | 0.65200000000000002 | 0.99299999999999999 | RPE1-hTERT | VE821 |\n",
       "\n"
      ],
      "text/plain": [
       "  GENE   normZ               p-value             FDR                 cell_line \n",
       "1 A1BG   0.32                0.626               1                   RPE1-hTERT\n",
       "2 A1CF   -1.1000000000000001 0.13600000000000001 1.26                RPE1-hTERT\n",
       "3 A2M    0.2                 0.57899999999999996 1.02                RPE1-hTERT\n",
       "4 A2ML1  -0.97               0.16500000000000001 1.26                RPE1-hTERT\n",
       "5 A4GALT -0.11               0.45500000000000002 1.07                RPE1-hTERT\n",
       "6 A4GNT  0.39                0.65200000000000002 0.99299999999999999 RPE1-hTERT\n",
       "  treatment\n",
       "1 VE821    \n",
       "2 VE821    \n",
       "3 VE821    \n",
       "4 VE821    \n",
       "5 VE821    \n",
       "6 VE821    "
      ]
     },
     "metadata": {},
     "output_type": "display_data"
    }
   ],
   "source": [
    "# make new df with columns 1, 5, 6 and 7\n",
    "hustedt_subset_rpe1htert_ve821 <- hustedt[, c(1, 5, 6, 7)]\n",
    "\n",
    "# make 2nd row the headers\n",
    "colnames(hustedt_subset_rpe1htert_ve821) <- hustedt_subset_rpe1htert_ve821[1, ]\n",
    "\n",
    "# remove 2nd row\n",
    "hustedt_subset_rpe1htert_ve821 <- hustedt_subset_rpe1htert_ve821[-1, ]\n",
    "\n",
    "# add cell_line column equal to RPE1-hTER\n",
    "hustedt_subset_rpe1htert_ve821$cell_line <- \"RPE1-hTERT\"\n",
    "\n",
    "# add treatment column equal to AZD6738\n",
    "hustedt_subset_rpe1htert_ve821$treatment <- \"VE821\"\n",
    "\n",
    "# rename column 1 to GENE\n",
    "colnames(hustedt_subset_rpe1htert_ve821)[1] <- \"GENE\"\n",
    "\n",
    "head(hustedt_subset_rpe1htert_ve821)"
   ]
  },
  {
   "attachments": {},
   "cell_type": "markdown",
   "metadata": {},
   "source": [
    "#### preprocess 3rd subset Hustedt et al. 2019"
   ]
  },
  {
   "cell_type": "code",
   "execution_count": 54,
   "metadata": {
    "vscode": {
     "languageId": "r"
    }
   },
   "outputs": [
    {
     "data": {
      "text/html": [
       "<table class=\"dataframe\">\n",
       "<caption>A tibble: 6 × 6</caption>\n",
       "<thead>\n",
       "\t<tr><th scope=col>GENE</th><th scope=col>normZ</th><th scope=col>p-value</th><th scope=col>FDR</th><th scope=col>cell_line</th><th scope=col>treatment</th></tr>\n",
       "\t<tr><th scope=col>&lt;chr&gt;</th><th scope=col>&lt;chr&gt;</th><th scope=col>&lt;chr&gt;</th><th scope=col>&lt;chr&gt;</th><th scope=col>&lt;chr&gt;</th><th scope=col>&lt;chr&gt;</th></tr>\n",
       "</thead>\n",
       "<tbody>\n",
       "\t<tr><td>A1BG  </td><td>0.03 </td><td>0.51100000000000001  </td><td>1.02               </td><td>HeLa</td><td>VE821</td></tr>\n",
       "\t<tr><td>A1CF  </td><td>-0.64</td><td>0.26100000000000001  </td><td>1.05               </td><td>HeLa</td><td>VE821</td></tr>\n",
       "\t<tr><td>A2M   </td><td>1.05 </td><td>0.85299999999999998  </td><td>0.99299999999999999</td><td>HeLa</td><td>VE821</td></tr>\n",
       "\t<tr><td>A2ML1 </td><td>0.03 </td><td>0.51100000000000001  </td><td>1.02               </td><td>HeLa</td><td>VE821</td></tr>\n",
       "\t<tr><td>A4GALT</td><td>-1.9 </td><td>2.8899999999999999E-2</td><td>0.83699999999999997</td><td>HeLa</td><td>VE821</td></tr>\n",
       "\t<tr><td>A4GNT </td><td>-0.4 </td><td>0.34300000000000003  </td><td>1.04               </td><td>HeLa</td><td>VE821</td></tr>\n",
       "</tbody>\n",
       "</table>\n"
      ],
      "text/latex": [
       "A tibble: 6 × 6\n",
       "\\begin{tabular}{llllll}\n",
       " GENE & normZ & p-value & FDR & cell\\_line & treatment\\\\\n",
       " <chr> & <chr> & <chr> & <chr> & <chr> & <chr>\\\\\n",
       "\\hline\n",
       "\t A1BG   & 0.03  & 0.51100000000000001   & 1.02                & HeLa & VE821\\\\\n",
       "\t A1CF   & -0.64 & 0.26100000000000001   & 1.05                & HeLa & VE821\\\\\n",
       "\t A2M    & 1.05  & 0.85299999999999998   & 0.99299999999999999 & HeLa & VE821\\\\\n",
       "\t A2ML1  & 0.03  & 0.51100000000000001   & 1.02                & HeLa & VE821\\\\\n",
       "\t A4GALT & -1.9  & 2.8899999999999999E-2 & 0.83699999999999997 & HeLa & VE821\\\\\n",
       "\t A4GNT  & -0.4  & 0.34300000000000003   & 1.04                & HeLa & VE821\\\\\n",
       "\\end{tabular}\n"
      ],
      "text/markdown": [
       "\n",
       "A tibble: 6 × 6\n",
       "\n",
       "| GENE &lt;chr&gt; | normZ &lt;chr&gt; | p-value &lt;chr&gt; | FDR &lt;chr&gt; | cell_line &lt;chr&gt; | treatment &lt;chr&gt; |\n",
       "|---|---|---|---|---|---|\n",
       "| A1BG   | 0.03  | 0.51100000000000001   | 1.02                | HeLa | VE821 |\n",
       "| A1CF   | -0.64 | 0.26100000000000001   | 1.05                | HeLa | VE821 |\n",
       "| A2M    | 1.05  | 0.85299999999999998   | 0.99299999999999999 | HeLa | VE821 |\n",
       "| A2ML1  | 0.03  | 0.51100000000000001   | 1.02                | HeLa | VE821 |\n",
       "| A4GALT | -1.9  | 2.8899999999999999E-2 | 0.83699999999999997 | HeLa | VE821 |\n",
       "| A4GNT  | -0.4  | 0.34300000000000003   | 1.04                | HeLa | VE821 |\n",
       "\n"
      ],
      "text/plain": [
       "  GENE   normZ p-value               FDR                 cell_line treatment\n",
       "1 A1BG   0.03  0.51100000000000001   1.02                HeLa      VE821    \n",
       "2 A1CF   -0.64 0.26100000000000001   1.05                HeLa      VE821    \n",
       "3 A2M    1.05  0.85299999999999998   0.99299999999999999 HeLa      VE821    \n",
       "4 A2ML1  0.03  0.51100000000000001   1.02                HeLa      VE821    \n",
       "5 A4GALT -1.9  2.8899999999999999E-2 0.83699999999999997 HeLa      VE821    \n",
       "6 A4GNT  -0.4  0.34300000000000003   1.04                HeLa      VE821    "
      ]
     },
     "metadata": {},
     "output_type": "display_data"
    }
   ],
   "source": [
    "# make new df with columns 1, 8, 9 and 10\n",
    "hustedt_subset_hela_ve821 <- hustedt[, c(1, 8, 9, 10)]\n",
    "\n",
    "# make 2nd row the headers\n",
    "colnames(hustedt_subset_hela_ve821) <- hustedt_subset_hela_ve821[1, ]\n",
    "\n",
    "# remove 2nd row\n",
    "hustedt_subset_hela_ve821 <- hustedt_subset_hela_ve821[-1, ]\n",
    "\n",
    "# add cell_line column equal to RPE1-hTER\n",
    "hustedt_subset_hela_ve821$cell_line <- \"HeLa\"\n",
    "\n",
    "# add treatment column equal to AZD6738\n",
    "hustedt_subset_hela_ve821$treatment <- \"VE821\"\n",
    "\n",
    "# rename column 1 to GENE\n",
    "colnames(hustedt_subset_hela_ve821)[1] <- \"GENE\"\n",
    "\n",
    "head(hustedt_subset_hela_ve821)"
   ]
  },
  {
   "attachments": {},
   "cell_type": "markdown",
   "metadata": {},
   "source": [
    "#### preprocess 4th subset Hustedt et al. 2019"
   ]
  },
  {
   "cell_type": "code",
   "execution_count": 55,
   "metadata": {
    "vscode": {
     "languageId": "r"
    }
   },
   "outputs": [
    {
     "data": {
      "text/html": [
       "<table class=\"dataframe\">\n",
       "<caption>A tibble: 6 × 6</caption>\n",
       "<thead>\n",
       "\t<tr><th scope=col>GENE</th><th scope=col>normZ</th><th scope=col>p-value</th><th scope=col>FDR</th><th scope=col>cell_line</th><th scope=col>treatment</th></tr>\n",
       "\t<tr><th scope=col>&lt;chr&gt;</th><th scope=col>&lt;chr&gt;</th><th scope=col>&lt;chr&gt;</th><th scope=col>&lt;chr&gt;</th><th scope=col>&lt;chr&gt;</th><th scope=col>&lt;chr&gt;</th></tr>\n",
       "</thead>\n",
       "<tbody>\n",
       "\t<tr><td>A1BG  </td><td>1.87               </td><td>0.96899999999999997  </td><td>0.998</td><td>HCT116</td><td>VE821</td></tr>\n",
       "\t<tr><td>A1CF  </td><td>-0.21              </td><td>0.41499999999999998  </td><td>1.02 </td><td>HCT116</td><td>VE821</td></tr>\n",
       "\t<tr><td>A2M   </td><td>0.56999999999999995</td><td>0.71399999999999997  </td><td>0.999</td><td>HCT116</td><td>VE821</td></tr>\n",
       "\t<tr><td>A2ML1 </td><td>-1.3               </td><td>9.6000000000000002E-2</td><td>0.997</td><td>HCT116</td><td>VE821</td></tr>\n",
       "\t<tr><td>A4GALT</td><td>0.56000000000000005</td><td>0.71099999999999997  </td><td>0.999</td><td>HCT116</td><td>VE821</td></tr>\n",
       "\t<tr><td>A4GNT </td><td>-0.09              </td><td>0.46500000000000002  </td><td>1.02 </td><td>HCT116</td><td>VE821</td></tr>\n",
       "</tbody>\n",
       "</table>\n"
      ],
      "text/latex": [
       "A tibble: 6 × 6\n",
       "\\begin{tabular}{llllll}\n",
       " GENE & normZ & p-value & FDR & cell\\_line & treatment\\\\\n",
       " <chr> & <chr> & <chr> & <chr> & <chr> & <chr>\\\\\n",
       "\\hline\n",
       "\t A1BG   & 1.87                & 0.96899999999999997   & 0.998 & HCT116 & VE821\\\\\n",
       "\t A1CF   & -0.21               & 0.41499999999999998   & 1.02  & HCT116 & VE821\\\\\n",
       "\t A2M    & 0.56999999999999995 & 0.71399999999999997   & 0.999 & HCT116 & VE821\\\\\n",
       "\t A2ML1  & -1.3                & 9.6000000000000002E-2 & 0.997 & HCT116 & VE821\\\\\n",
       "\t A4GALT & 0.56000000000000005 & 0.71099999999999997   & 0.999 & HCT116 & VE821\\\\\n",
       "\t A4GNT  & -0.09               & 0.46500000000000002   & 1.02  & HCT116 & VE821\\\\\n",
       "\\end{tabular}\n"
      ],
      "text/markdown": [
       "\n",
       "A tibble: 6 × 6\n",
       "\n",
       "| GENE &lt;chr&gt; | normZ &lt;chr&gt; | p-value &lt;chr&gt; | FDR &lt;chr&gt; | cell_line &lt;chr&gt; | treatment &lt;chr&gt; |\n",
       "|---|---|---|---|---|---|\n",
       "| A1BG   | 1.87                | 0.96899999999999997   | 0.998 | HCT116 | VE821 |\n",
       "| A1CF   | -0.21               | 0.41499999999999998   | 1.02  | HCT116 | VE821 |\n",
       "| A2M    | 0.56999999999999995 | 0.71399999999999997   | 0.999 | HCT116 | VE821 |\n",
       "| A2ML1  | -1.3                | 9.6000000000000002E-2 | 0.997 | HCT116 | VE821 |\n",
       "| A4GALT | 0.56000000000000005 | 0.71099999999999997   | 0.999 | HCT116 | VE821 |\n",
       "| A4GNT  | -0.09               | 0.46500000000000002   | 1.02  | HCT116 | VE821 |\n",
       "\n"
      ],
      "text/plain": [
       "  GENE   normZ               p-value               FDR   cell_line treatment\n",
       "1 A1BG   1.87                0.96899999999999997   0.998 HCT116    VE821    \n",
       "2 A1CF   -0.21               0.41499999999999998   1.02  HCT116    VE821    \n",
       "3 A2M    0.56999999999999995 0.71399999999999997   0.999 HCT116    VE821    \n",
       "4 A2ML1  -1.3                9.6000000000000002E-2 0.997 HCT116    VE821    \n",
       "5 A4GALT 0.56000000000000005 0.71099999999999997   0.999 HCT116    VE821    \n",
       "6 A4GNT  -0.09               0.46500000000000002   1.02  HCT116    VE821    "
      ]
     },
     "metadata": {},
     "output_type": "display_data"
    }
   ],
   "source": [
    "# make new df with columns 1, 11, 12 and 13\n",
    "hustedt_subset_hct116_ve821 <- hustedt[, c(1, 11, 12, 13)]\n",
    "\n",
    "# make 2nd row the headers\n",
    "colnames(hustedt_subset_hct116_ve821) <- hustedt_subset_hct116_ve821[1, ]\n",
    "# remove 2nd row\n",
    "hustedt_subset_hct116_ve821 <- hustedt_subset_hct116_ve821[-1, ]\n",
    "\n",
    "# add cell_line column equal to RPE1-hTER\n",
    "hustedt_subset_hct116_ve821$cell_line <- \"HCT116\"\n",
    "\n",
    "# add treatment column equal to AZD6738\n",
    "hustedt_subset_hct116_ve821$treatment <- \"VE821\"\n",
    "\n",
    "# rename column 1 to GENE\n",
    "colnames(hustedt_subset_hct116_ve821)[1] <- \"GENE\"\n",
    "\n",
    "head(hustedt_subset_hct116_ve821)"
   ]
  },
  {
   "attachments": {},
   "cell_type": "markdown",
   "metadata": {},
   "source": [
    "#### merge the four subsets"
   ]
  },
  {
   "cell_type": "code",
   "execution_count": 56,
   "metadata": {
    "vscode": {
     "languageId": "r"
    }
   },
   "outputs": [],
   "source": [
    "# merge the four dataframes\n",
    "hustedt <- rbind(hustedt_subset_azd6738, hustedt_subset_rpe1htert_ve821, hustedt_subset_hela_ve821, hustedt_subset_hct116_ve821)\n",
    "\n",
    "# make columns 2,3 and 4 numeric\n",
    "hustedt[, 2:4] <- lapply(hustedt[, 2:4], as.numeric)\n",
    "\n",
    "# reorder columns to GENE cell_line treatment normZ FDR\n",
    "hustedt <- hustedt[c(\"GENE\", \"cell_line\", \"treatment\", \"normZ\", \"FDR\", \"p-value\")]\n",
    "\n",
    "# rename columns to lowercase\n",
    "colnames(hustedt) <- tolower(colnames(hustedt))\n",
    "\n",
    "# remove p-value column\n",
    "hustedt <- hustedt[, -6]\n",
    "\n",
    "# remove NaNs\n",
    "hustedt_nonan <- hustedt[complete.cases(hustedt), ]\n",
    "olivieri_nonan <- olivieri[complete.cases(olivieri), ]"
   ]
  },
  {
   "attachments": {},
   "cell_type": "markdown",
   "metadata": {},
   "source": [
    "#### view files"
   ]
  },
  {
   "cell_type": "code",
   "execution_count": 57,
   "metadata": {
    "vscode": {
     "languageId": "r"
    }
   },
   "outputs": [
    {
     "data": {
      "text/html": [
       "<table class=\"dataframe\">\n",
       "<caption>A data.frame: 6 × 5</caption>\n",
       "<thead>\n",
       "\t<tr><th></th><th scope=col>gene</th><th scope=col>cell_line</th><th scope=col>treatment</th><th scope=col>normz</th><th scope=col>fdr</th></tr>\n",
       "\t<tr><th></th><th scope=col>&lt;chr&gt;</th><th scope=col>&lt;chr&gt;</th><th scope=col>&lt;chr&gt;</th><th scope=col>&lt;dbl&gt;</th><th scope=col>&lt;dbl&gt;</th></tr>\n",
       "</thead>\n",
       "<tbody>\n",
       "\t<tr><th scope=row>1</th><td>A1BG</td><td>RPE1-hTERT</td><td>Cisplatin1</td><td>-2.20</td><td>0.880</td></tr>\n",
       "\t<tr><th scope=row>2</th><td>A1BG</td><td>RPE1-hTERT</td><td>IR        </td><td> 0.03</td><td>1.020</td></tr>\n",
       "\t<tr><th scope=row>3</th><td>A1BG</td><td>RPE1-hTERT</td><td>UV        </td><td>-1.14</td><td>1.320</td></tr>\n",
       "\t<tr><th scope=row>4</th><td>A1BG</td><td>RPE1-hTERT</td><td>Olaparib  </td><td> 1.27</td><td>0.991</td></tr>\n",
       "\t<tr><th scope=row>5</th><td>A1BG</td><td>RPE1-hTERT</td><td>AZD6738   </td><td>-0.46</td><td>1.120</td></tr>\n",
       "\t<tr><th scope=row>6</th><td>A1BG</td><td>RPE1-hTERT</td><td>Cisplatin2</td><td> 0.83</td><td>0.922</td></tr>\n",
       "</tbody>\n",
       "</table>\n"
      ],
      "text/latex": [
       "A data.frame: 6 × 5\n",
       "\\begin{tabular}{r|lllll}\n",
       "  & gene & cell\\_line & treatment & normz & fdr\\\\\n",
       "  & <chr> & <chr> & <chr> & <dbl> & <dbl>\\\\\n",
       "\\hline\n",
       "\t1 & A1BG & RPE1-hTERT & Cisplatin1 & -2.20 & 0.880\\\\\n",
       "\t2 & A1BG & RPE1-hTERT & IR         &  0.03 & 1.020\\\\\n",
       "\t3 & A1BG & RPE1-hTERT & UV         & -1.14 & 1.320\\\\\n",
       "\t4 & A1BG & RPE1-hTERT & Olaparib   &  1.27 & 0.991\\\\\n",
       "\t5 & A1BG & RPE1-hTERT & AZD6738    & -0.46 & 1.120\\\\\n",
       "\t6 & A1BG & RPE1-hTERT & Cisplatin2 &  0.83 & 0.922\\\\\n",
       "\\end{tabular}\n"
      ],
      "text/markdown": [
       "\n",
       "A data.frame: 6 × 5\n",
       "\n",
       "| <!--/--> | gene &lt;chr&gt; | cell_line &lt;chr&gt; | treatment &lt;chr&gt; | normz &lt;dbl&gt; | fdr &lt;dbl&gt; |\n",
       "|---|---|---|---|---|---|\n",
       "| 1 | A1BG | RPE1-hTERT | Cisplatin1 | -2.20 | 0.880 |\n",
       "| 2 | A1BG | RPE1-hTERT | IR         |  0.03 | 1.020 |\n",
       "| 3 | A1BG | RPE1-hTERT | UV         | -1.14 | 1.320 |\n",
       "| 4 | A1BG | RPE1-hTERT | Olaparib   |  1.27 | 0.991 |\n",
       "| 5 | A1BG | RPE1-hTERT | AZD6738    | -0.46 | 1.120 |\n",
       "| 6 | A1BG | RPE1-hTERT | Cisplatin2 |  0.83 | 0.922 |\n",
       "\n"
      ],
      "text/plain": [
       "  gene cell_line  treatment  normz fdr  \n",
       "1 A1BG RPE1-hTERT Cisplatin1 -2.20 0.880\n",
       "2 A1BG RPE1-hTERT IR          0.03 1.020\n",
       "3 A1BG RPE1-hTERT UV         -1.14 1.320\n",
       "4 A1BG RPE1-hTERT Olaparib    1.27 0.991\n",
       "5 A1BG RPE1-hTERT AZD6738    -0.46 1.120\n",
       "6 A1BG RPE1-hTERT Cisplatin2  0.83 0.922"
      ]
     },
     "metadata": {},
     "output_type": "display_data"
    }
   ],
   "source": [
    "head(olivieri_nonan)"
   ]
  },
  {
   "cell_type": "code",
   "execution_count": 58,
   "metadata": {
    "vscode": {
     "languageId": "r"
    }
   },
   "outputs": [
    {
     "data": {
      "text/html": [
       "<table class=\"dataframe\">\n",
       "<caption>A tibble: 6 × 5</caption>\n",
       "<thead>\n",
       "\t<tr><th scope=col>gene</th><th scope=col>cell_line</th><th scope=col>treatment</th><th scope=col>normz</th><th scope=col>fdr</th></tr>\n",
       "\t<tr><th scope=col>&lt;chr&gt;</th><th scope=col>&lt;chr&gt;</th><th scope=col>&lt;chr&gt;</th><th scope=col>&lt;dbl&gt;</th><th scope=col>&lt;dbl&gt;</th></tr>\n",
       "</thead>\n",
       "<tbody>\n",
       "\t<tr><td>A1BG  </td><td>RPE1-hTERT</td><td>AZD6738</td><td>-0.46</td><td>1.120</td></tr>\n",
       "\t<tr><td>A1CF  </td><td>RPE1-hTERT</td><td>AZD6738</td><td> 0.54</td><td>0.984</td></tr>\n",
       "\t<tr><td>A2M   </td><td>RPE1-hTERT</td><td>AZD6738</td><td> 0.13</td><td>1.020</td></tr>\n",
       "\t<tr><td>A2ML1 </td><td>RPE1-hTERT</td><td>AZD6738</td><td>-0.25</td><td>1.090</td></tr>\n",
       "\t<tr><td>A4GALT</td><td>RPE1-hTERT</td><td>AZD6738</td><td>-1.13</td><td>1.270</td></tr>\n",
       "\t<tr><td>A4GNT </td><td>RPE1-hTERT</td><td>AZD6738</td><td> 1.35</td><td>0.971</td></tr>\n",
       "</tbody>\n",
       "</table>\n"
      ],
      "text/latex": [
       "A tibble: 6 × 5\n",
       "\\begin{tabular}{lllll}\n",
       " gene & cell\\_line & treatment & normz & fdr\\\\\n",
       " <chr> & <chr> & <chr> & <dbl> & <dbl>\\\\\n",
       "\\hline\n",
       "\t A1BG   & RPE1-hTERT & AZD6738 & -0.46 & 1.120\\\\\n",
       "\t A1CF   & RPE1-hTERT & AZD6738 &  0.54 & 0.984\\\\\n",
       "\t A2M    & RPE1-hTERT & AZD6738 &  0.13 & 1.020\\\\\n",
       "\t A2ML1  & RPE1-hTERT & AZD6738 & -0.25 & 1.090\\\\\n",
       "\t A4GALT & RPE1-hTERT & AZD6738 & -1.13 & 1.270\\\\\n",
       "\t A4GNT  & RPE1-hTERT & AZD6738 &  1.35 & 0.971\\\\\n",
       "\\end{tabular}\n"
      ],
      "text/markdown": [
       "\n",
       "A tibble: 6 × 5\n",
       "\n",
       "| gene &lt;chr&gt; | cell_line &lt;chr&gt; | treatment &lt;chr&gt; | normz &lt;dbl&gt; | fdr &lt;dbl&gt; |\n",
       "|---|---|---|---|---|\n",
       "| A1BG   | RPE1-hTERT | AZD6738 | -0.46 | 1.120 |\n",
       "| A1CF   | RPE1-hTERT | AZD6738 |  0.54 | 0.984 |\n",
       "| A2M    | RPE1-hTERT | AZD6738 |  0.13 | 1.020 |\n",
       "| A2ML1  | RPE1-hTERT | AZD6738 | -0.25 | 1.090 |\n",
       "| A4GALT | RPE1-hTERT | AZD6738 | -1.13 | 1.270 |\n",
       "| A4GNT  | RPE1-hTERT | AZD6738 |  1.35 | 0.971 |\n",
       "\n"
      ],
      "text/plain": [
       "  gene   cell_line  treatment normz fdr  \n",
       "1 A1BG   RPE1-hTERT AZD6738   -0.46 1.120\n",
       "2 A1CF   RPE1-hTERT AZD6738    0.54 0.984\n",
       "3 A2M    RPE1-hTERT AZD6738    0.13 1.020\n",
       "4 A2ML1  RPE1-hTERT AZD6738   -0.25 1.090\n",
       "5 A4GALT RPE1-hTERT AZD6738   -1.13 1.270\n",
       "6 A4GNT  RPE1-hTERT AZD6738    1.35 0.971"
      ]
     },
     "metadata": {},
     "output_type": "display_data"
    }
   ],
   "source": [
    "head(hustedt_nonan)"
   ]
  },
  {
   "attachments": {},
   "cell_type": "markdown",
   "metadata": {},
   "source": [
    "# 2) Explore both datasets"
   ]
  },
  {
   "attachments": {},
   "cell_type": "markdown",
   "metadata": {},
   "source": [
    "#### In the Olivieri dataset, not all genes are present in each treatment"
   ]
  },
  {
   "cell_type": "code",
   "execution_count": 59,
   "metadata": {
    "vscode": {
     "languageId": "r"
    }
   },
   "outputs": [
    {
     "data": {
      "text/html": [
       "<table class=\"dataframe\">\n",
       "<caption>A data.frame: 9 × 3</caption>\n",
       "<thead>\n",
       "\t<tr><th scope=col>treatment</th><th scope=col>cell_line</th><th scope=col>n</th></tr>\n",
       "\t<tr><th scope=col>&lt;chr&gt;</th><th scope=col>&lt;chr&gt;</th><th scope=col>&lt;int&gt;</th></tr>\n",
       "</thead>\n",
       "<tbody>\n",
       "\t<tr><td>AZD6738     </td><td>RPE1-hTERT</td><td>17272</td></tr>\n",
       "\t<tr><td>Cisplatin1  </td><td>RPE1-hTERT</td><td>17382</td></tr>\n",
       "\t<tr><td>Cisplatin2  </td><td>RPE1-hTERT</td><td>17249</td></tr>\n",
       "\t<tr><td>Cisplatin3  </td><td>RPE1-hTERT</td><td>17272</td></tr>\n",
       "\t<tr><td>Formaldehyde</td><td>RPE1-hTERT</td><td>17293</td></tr>\n",
       "\t<tr><td>IR          </td><td>RPE1-hTERT</td><td>17315</td></tr>\n",
       "\t<tr><td>KBrO3       </td><td>RPE1-hTERT</td><td>17380</td></tr>\n",
       "\t<tr><td>Olaparib    </td><td>RPE1-hTERT</td><td>17277</td></tr>\n",
       "\t<tr><td>UV          </td><td>RPE1-hTERT</td><td>17361</td></tr>\n",
       "</tbody>\n",
       "</table>\n"
      ],
      "text/latex": [
       "A data.frame: 9 × 3\n",
       "\\begin{tabular}{lll}\n",
       " treatment & cell\\_line & n\\\\\n",
       " <chr> & <chr> & <int>\\\\\n",
       "\\hline\n",
       "\t AZD6738      & RPE1-hTERT & 17272\\\\\n",
       "\t Cisplatin1   & RPE1-hTERT & 17382\\\\\n",
       "\t Cisplatin2   & RPE1-hTERT & 17249\\\\\n",
       "\t Cisplatin3   & RPE1-hTERT & 17272\\\\\n",
       "\t Formaldehyde & RPE1-hTERT & 17293\\\\\n",
       "\t IR           & RPE1-hTERT & 17315\\\\\n",
       "\t KBrO3        & RPE1-hTERT & 17380\\\\\n",
       "\t Olaparib     & RPE1-hTERT & 17277\\\\\n",
       "\t UV           & RPE1-hTERT & 17361\\\\\n",
       "\\end{tabular}\n"
      ],
      "text/markdown": [
       "\n",
       "A data.frame: 9 × 3\n",
       "\n",
       "| treatment &lt;chr&gt; | cell_line &lt;chr&gt; | n &lt;int&gt; |\n",
       "|---|---|---|\n",
       "| AZD6738      | RPE1-hTERT | 17272 |\n",
       "| Cisplatin1   | RPE1-hTERT | 17382 |\n",
       "| Cisplatin2   | RPE1-hTERT | 17249 |\n",
       "| Cisplatin3   | RPE1-hTERT | 17272 |\n",
       "| Formaldehyde | RPE1-hTERT | 17293 |\n",
       "| IR           | RPE1-hTERT | 17315 |\n",
       "| KBrO3        | RPE1-hTERT | 17380 |\n",
       "| Olaparib     | RPE1-hTERT | 17277 |\n",
       "| UV           | RPE1-hTERT | 17361 |\n",
       "\n"
      ],
      "text/plain": [
       "  treatment    cell_line  n    \n",
       "1 AZD6738      RPE1-hTERT 17272\n",
       "2 Cisplatin1   RPE1-hTERT 17382\n",
       "3 Cisplatin2   RPE1-hTERT 17249\n",
       "4 Cisplatin3   RPE1-hTERT 17272\n",
       "5 Formaldehyde RPE1-hTERT 17293\n",
       "6 IR           RPE1-hTERT 17315\n",
       "7 KBrO3        RPE1-hTERT 17380\n",
       "8 Olaparib     RPE1-hTERT 17277\n",
       "9 UV           RPE1-hTERT 17361"
      ]
     },
     "metadata": {},
     "output_type": "display_data"
    }
   ],
   "source": [
    "# get number of unique genes in each treatment and cell line for each paper\n",
    "olivieri_nonan %>% count(treatment, cell_line)"
   ]
  },
  {
   "attachments": {},
   "cell_type": "markdown",
   "metadata": {},
   "source": [
    "#### In the Hustedt dataset, all treatments have an equal number (15910) of genes present. The are approximately 1400 fewer genes in the Hustedt dataset compared to the Olivieri dataset"
   ]
  },
  {
   "cell_type": "code",
   "execution_count": 60,
   "metadata": {
    "vscode": {
     "languageId": "r"
    }
   },
   "outputs": [
    {
     "data": {
      "text/html": [
       "<table class=\"dataframe\">\n",
       "<caption>A tibble: 4 × 3</caption>\n",
       "<thead>\n",
       "\t<tr><th scope=col>treatment</th><th scope=col>cell_line</th><th scope=col>n</th></tr>\n",
       "\t<tr><th scope=col>&lt;chr&gt;</th><th scope=col>&lt;chr&gt;</th><th scope=col>&lt;int&gt;</th></tr>\n",
       "</thead>\n",
       "<tbody>\n",
       "\t<tr><td>AZD6738</td><td>RPE1-hTERT</td><td>15910</td></tr>\n",
       "\t<tr><td>VE821  </td><td>HCT116    </td><td>15910</td></tr>\n",
       "\t<tr><td>VE821  </td><td>HeLa      </td><td>15910</td></tr>\n",
       "\t<tr><td>VE821  </td><td>RPE1-hTERT</td><td>15910</td></tr>\n",
       "</tbody>\n",
       "</table>\n"
      ],
      "text/latex": [
       "A tibble: 4 × 3\n",
       "\\begin{tabular}{lll}\n",
       " treatment & cell\\_line & n\\\\\n",
       " <chr> & <chr> & <int>\\\\\n",
       "\\hline\n",
       "\t AZD6738 & RPE1-hTERT & 15910\\\\\n",
       "\t VE821   & HCT116     & 15910\\\\\n",
       "\t VE821   & HeLa       & 15910\\\\\n",
       "\t VE821   & RPE1-hTERT & 15910\\\\\n",
       "\\end{tabular}\n"
      ],
      "text/markdown": [
       "\n",
       "A tibble: 4 × 3\n",
       "\n",
       "| treatment &lt;chr&gt; | cell_line &lt;chr&gt; | n &lt;int&gt; |\n",
       "|---|---|---|\n",
       "| AZD6738 | RPE1-hTERT | 15910 |\n",
       "| VE821   | HCT116     | 15910 |\n",
       "| VE821   | HeLa       | 15910 |\n",
       "| VE821   | RPE1-hTERT | 15910 |\n",
       "\n"
      ],
      "text/plain": [
       "  treatment cell_line  n    \n",
       "1 AZD6738   RPE1-hTERT 15910\n",
       "2 VE821     HCT116     15910\n",
       "3 VE821     HeLa       15910\n",
       "4 VE821     RPE1-hTERT 15910"
      ]
     },
     "metadata": {},
     "output_type": "display_data"
    }
   ],
   "source": [
    "# get number of unique genes in each treatment and cell line for each paper\n",
    "hustedt_nonan %>% count(treatment, cell_line)"
   ]
  },
  {
   "attachments": {},
   "cell_type": "markdown",
   "metadata": {},
   "source": [
    "## 2a)"
   ]
  },
  {
   "attachments": {},
   "cell_type": "markdown",
   "metadata": {},
   "source": [
    "#### The shape of the plots of normZ values vs FDR in each cell line/treatment are roughly the same although Cisplatin2, Cisplatin3 and KBrO3 treatments have larger peaks with higher FDR scores between 0 and 2 normZ. AZD6738, Cisplatin2, Cisplatin3 and UV cause the most lethality, with many normZ scores under -15. "
   ]
  },
  {
   "cell_type": "code",
   "execution_count": 61,
   "metadata": {
    "vscode": {
     "languageId": "r"
    }
   },
   "outputs": [],
   "source": [
    "# create function for plotting the normZ values for each cell line and treatment\n",
    "plotting <- function(df, cell_line, treatment, xlab, ylab, title) {\n",
    "  ggplot(df, aes(x = normz, y = fdr)) + # Construct aesthetic mappings which map \n",
    "  # variables in the data to visual properties of the plot\n",
    "    # Add points\n",
    "    geom_point() +\n",
    "    # Add y intercept at 0.1\n",
    "    geom_hline(yintercept = 0.1, linetype = \"dashed\") +\n",
    "    # Add x intercept at -2.5\n",
    "    geom_vline(xintercept = -2.5, linetype = \"dashed\") +\n",
    "    # Add a subplot titles\n",
    "    facet_wrap(~ cell_line + treatment) +\n",
    "    # Add axis labels and title\n",
    "    labs(x = xlab, y = ylab, title = title)\n",
    "}"
   ]
  },
  {
   "cell_type": "code",
   "execution_count": 62,
   "metadata": {
    "vscode": {
     "languageId": "r"
    }
   },
   "outputs": [
    {
     "data": {
      "image/png": "[encoded data removed]",
      "text/plain": [
       "plot without title"
      ]
     },
     "metadata": {
      "image/png": {
       "height": 420,
       "width": 420
      }
     },
     "output_type": "display_data"
    }
   ],
   "source": [
    "# plot the normZ values vs FDR for each cell line and treatment\n",
    "plotting(olivieri_nonan, \"cell_line\", \"treatment\", \"normZ\", \"FDR\", \"Olivieri et al. 2020 DrugZ-calculated normZ scores vs FDR\")\n",
    "# save plot as pdf\n",
    "ggsave(\"../data/Olivieri_normZ_FDR.pdf\", width = 10, height = 10)"
   ]
  },
  {
   "attachments": {},
   "cell_type": "markdown",
   "metadata": {},
   "source": [
    "#### Again, the shape of the plots of normZ values vs FDR in each cell line/treatment in the Hustedt dataset are roughly the same although the RPE1-hTERT cell lines have larger peaks with higher FDR scores between 0 and 2 normZ. There are not many significantly lethal genes with normZ scores of -2.5 or under and FDR under 0.1 with the VE821 treatments"
   ]
  },
  {
   "cell_type": "code",
   "execution_count": 63,
   "metadata": {
    "vscode": {
     "languageId": "r"
    }
   },
   "outputs": [
    {
     "data": {
      "image/png": "[encoded data removed]",
      "text/plain": [
       "plot without title"
      ]
     },
     "metadata": {
      "image/png": {
       "height": 420,
       "width": 420
      }
     },
     "output_type": "display_data"
    }
   ],
   "source": [
    "# plot the normZ values vs FDR for each cell line and treatment, hustedt data\n",
    "plotting(hustedt_nonan, \"cell_line\", \"treatment\", \"normZ\", \"FDR\", \"Hustedt et al. 2019 DrugZ-calculated normZ scores vs FDR\")\n",
    "# save plot as pdf\n",
    "ggsave(\"../data/Hustedt_normZ_FDR.pdf\", width = 10, height = 10)"
   ]
  },
  {
   "attachments": {},
   "cell_type": "markdown",
   "metadata": {},
   "source": [
    "#### There is a slight negative skew, with a wider range of negative normZ scores than positive"
   ]
  },
  {
   "cell_type": "code",
   "execution_count": 64,
   "metadata": {
    "vscode": {
     "languageId": "r"
    }
   },
   "outputs": [
    {
     "data": {
      "image/png": "[encoded data removed]",
      "text/plain": [
       "plot without title"
      ]
     },
     "metadata": {
      "image/png": {
       "height": 420,
       "width": 420
      }
     },
     "output_type": "display_data"
    }
   ],
   "source": [
    "# plot the distribution of the normZ values for each cell line and treatment\n",
    "ggplot(data = olivieri_nonan, aes(x = normz, fill = treatment)) +\n",
    "  geom_histogram(bins = 50) +\n",
    "  \n",
    "  facet_wrap(~cell_line) + \n",
    "  labs(x = \"normZ\", y = \"Count\", title = \"Distribution of normZ scores of various treatments with the \\nRPE1-hTERT cell line in the Olivieri dataset\")"
   ]
  },
  {
   "cell_type": "code",
   "execution_count": 73,
   "metadata": {
    "vscode": {
     "languageId": "r"
    }
   },
   "outputs": [
    {
     "data": {
      "image/png": "[encoded data removed]",
      "text/plain": [
       "plot without title"
      ]
     },
     "metadata": {
      "image/png": {
       "height": 420,
       "width": 420
      }
     },
     "output_type": "display_data"
    }
   ],
   "source": [
    "# plot the distribution of the normZ values for each cell line and treatment\n",
    "ggplot(data = hustedt_nonan, aes(x = normz, fill = treatment)) + # Construct aesthetic mappings of variables to plot\n",
    "  # display histogram\n",
    "  geom_histogram(bins = 50) +\n",
    "  # add subplot titles\n",
    "  facet_wrap(~cell_line) +\n",
    "  # add axis labels and title\n",
    "  labs(x = \"normZ\", y = \"Count\", title = \"Distribution of normZ scores of treatments and cell lines in the Hustedt dataset\")\n",
    "\n",
    "# save plot as pdf\n",
    "ggsave(\"../data/Hustedt_normZ_distribution.pdf\", width = 10, height = 10)"
   ]
  },
  {
   "attachments": {},
   "cell_type": "markdown",
   "metadata": {},
   "source": [
    "#### plot RPE1-hTERT cell_line, AZD6738 treatment from olivieri_nonan with AZD6738 treatment from hustedt_nonan"
   ]
  },
  {
   "cell_type": "code",
   "execution_count": 66,
   "metadata": {
    "vscode": {
     "languageId": "r"
    }
   },
   "outputs": [],
   "source": [
    "# merge the dfs, creating a column for the paper\n",
    "olivieri_nonan$paper <- \"Olivieri\"\n",
    "hustedt_nonan$paper <- \"Hustedt\"\n",
    "merged <- merge(olivieri_nonan, hustedt_nonan, by = c(\"gene\", \"cell_line\", \"treatment\", \"normz\", \"fdr\", \"paper\"), all = TRUE)\n",
    "\n",
    "# remove duplicates from merged based on gene, cell_line, treatment, normz, fdr\n",
    "merged_nodups <- merged[!duplicated(merged[, 1:5]), ]\n",
    "merged_dups = merged[duplicated(merged[, 1:5]), ]\n",
    "    \n",
    "# compare RPE1-hTERT cell_line and AZD6738 treatment\n",
    "merged_rpe1htert_azd6738 <- merged_nodups[merged_nodups$cell_line == \"RPE1-hTERT\" & merged_nodups$treatment == \"AZD6738\", ]"
   ]
  },
  {
   "attachments": {},
   "cell_type": "markdown",
   "metadata": {},
   "source": [
    "#### There are 15725 duplicate values between the two datasets!"
   ]
  },
  {
   "cell_type": "code",
   "execution_count": 67,
   "metadata": {
    "vscode": {
     "languageId": "r"
    }
   },
   "outputs": [
    {
     "data": {
      "text/html": [
       "15725"
      ],
      "text/latex": [
       "15725"
      ],
      "text/markdown": [
       "15725"
      ],
      "text/plain": [
       "[1] 15725"
      ]
     },
     "metadata": {},
     "output_type": "display_data"
    }
   ],
   "source": [
    "# number of genes in merged_dups\n",
    "nrow(merged_dups)"
   ]
  },
  {
   "attachments": {},
   "cell_type": "markdown",
   "metadata": {},
   "source": [
    "#### Using only non-duplicated values, the distribution of normZ scores between the two papers is similar, although the Hustedt dataset has a larger peak around 0. Ignoring the slight negative skew, the data look normally distributed"
   ]
  },
  {
   "cell_type": "code",
   "execution_count": 68,
   "metadata": {
    "vscode": {
     "languageId": "r"
    }
   },
   "outputs": [
    {
     "data": {
      "image/png": "[encoded data removed]",
      "text/plain": [
       "plot without title"
      ]
     },
     "metadata": {
      "image/png": {
       "height": 420,
       "width": 420
      }
     },
     "output_type": "display_data"
    }
   ],
   "source": [
    "# plot the distribution of the normZ values for each paper\n",
    "ggplot(data = merged_rpe1htert_azd6738, aes(x = normz, fill = paper), ) + # Construct aesthetic mappings of variables to plot\n",
    "  # display histogram\n",
    "  geom_histogram(bins = 50) +\n",
    "  # add subplot titles\n",
    "  facet_wrap(~cell_line) +\n",
    "  # add axis labels and title\n",
    "  labs(x = \"normZ\", y = \"Frequency\", title = \"Distribution of normZ scores for RPE1-hTERT cell line and \\n AZD6738 treatment between Hustedt and Olivieri datasets\")\n",
    "\n",
    "# save plot as pdf\n",
    "ggsave(\"../data/compare_datasets_RPE1hTERT_AZD6738.pdf\", width = 10, height = 10)"
   ]
  },
  {
   "cell_type": "code",
   "execution_count": 69,
   "metadata": {
    "vscode": {
     "languageId": "r"
    }
   },
   "outputs": [
    {
     "data": {
      "text/html": [
       "<table class=\"dataframe\">\n",
       "<caption>A data.frame: 2 × 4</caption>\n",
       "<thead>\n",
       "\t<tr><th scope=col>treatment</th><th scope=col>cell_line</th><th scope=col>paper</th><th scope=col>n</th></tr>\n",
       "\t<tr><th scope=col>&lt;chr&gt;</th><th scope=col>&lt;chr&gt;</th><th scope=col>&lt;chr&gt;</th><th scope=col>&lt;int&gt;</th></tr>\n",
       "</thead>\n",
       "<tbody>\n",
       "\t<tr><td>AZD6738</td><td>RPE1-hTERT</td><td>Hustedt </td><td>15910</td></tr>\n",
       "\t<tr><td>AZD6738</td><td>RPE1-hTERT</td><td>Olivieri</td><td> 1547</td></tr>\n",
       "</tbody>\n",
       "</table>\n"
      ],
      "text/latex": [
       "A data.frame: 2 × 4\n",
       "\\begin{tabular}{llll}\n",
       " treatment & cell\\_line & paper & n\\\\\n",
       " <chr> & <chr> & <chr> & <int>\\\\\n",
       "\\hline\n",
       "\t AZD6738 & RPE1-hTERT & Hustedt  & 15910\\\\\n",
       "\t AZD6738 & RPE1-hTERT & Olivieri &  1547\\\\\n",
       "\\end{tabular}\n"
      ],
      "text/markdown": [
       "\n",
       "A data.frame: 2 × 4\n",
       "\n",
       "| treatment &lt;chr&gt; | cell_line &lt;chr&gt; | paper &lt;chr&gt; | n &lt;int&gt; |\n",
       "|---|---|---|---|\n",
       "| AZD6738 | RPE1-hTERT | Hustedt  | 15910 |\n",
       "| AZD6738 | RPE1-hTERT | Olivieri |  1547 |\n",
       "\n"
      ],
      "text/plain": [
       "  treatment cell_line  paper    n    \n",
       "1 AZD6738   RPE1-hTERT Hustedt  15910\n",
       "2 AZD6738   RPE1-hTERT Olivieri  1547"
      ]
     },
     "metadata": {},
     "output_type": "display_data"
    }
   ],
   "source": [
    "merged_rpe1htert_azd6738 %>% count(treatment, cell_line, paper)"
   ]
  },
  {
   "attachments": {},
   "cell_type": "markdown",
   "metadata": {},
   "source": [
    "## 2b) the datasets will be comparable if the intersect is taken based on genes present (so both datasets contain the same genes) since they are both normalised using DrugZ. This is assuming similar experimental conditions were used. The RPE1-hTERT cell lines are more comparable than the other cell lines, since they are present in both datasets. Note - some data points are present in both datasets so duplicates should be removed."
   ]
  },
  {
   "attachments": {},
   "cell_type": "markdown",
   "metadata": {},
   "source": [
    "# 3)"
   ]
  },
  {
   "attachments": {},
   "cell_type": "markdown",
   "metadata": {},
   "source": [
    "## 3a) there are 3 cell lines in the two datasets (RPE1-hTERT, HeLa, HCT116)"
   ]
  },
  {
   "attachments": {},
   "cell_type": "markdown",
   "metadata": {},
   "source": [
    "## 3b) There are 10 treatments. i) AZD6738 and VE821 are most similar based on their distributions"
   ]
  },
  {
   "attachments": {},
   "cell_type": "markdown",
   "metadata": {},
   "source": [
    "## 3c) See the table below for the number of hits for each treatment/cell line per dataset"
   ]
  },
  {
   "cell_type": "code",
   "execution_count": 70,
   "metadata": {
    "vscode": {
     "languageId": "r"
    }
   },
   "outputs": [
    {
     "data": {
      "text/html": [
       "<table class=\"dataframe\">\n",
       "<caption>A data.frame: 13 × 4</caption>\n",
       "<thead>\n",
       "\t<tr><th scope=col>treatment</th><th scope=col>cell_line</th><th scope=col>paper</th><th scope=col>n</th></tr>\n",
       "\t<tr><th scope=col>&lt;chr&gt;</th><th scope=col>&lt;chr&gt;</th><th scope=col>&lt;chr&gt;</th><th scope=col>&lt;int&gt;</th></tr>\n",
       "</thead>\n",
       "<tbody>\n",
       "\t<tr><td>AZD6738     </td><td>RPE1-hTERT</td><td>Hustedt </td><td> 76</td></tr>\n",
       "\t<tr><td>AZD6738     </td><td>RPE1-hTERT</td><td>Olivieri</td><td> 84</td></tr>\n",
       "\t<tr><td>Cisplatin1  </td><td>RPE1-hTERT</td><td>Olivieri</td><td> 52</td></tr>\n",
       "\t<tr><td>Cisplatin2  </td><td>RPE1-hTERT</td><td>Olivieri</td><td>104</td></tr>\n",
       "\t<tr><td>Cisplatin3  </td><td>RPE1-hTERT</td><td>Olivieri</td><td>124</td></tr>\n",
       "\t<tr><td>Formaldehyde</td><td>RPE1-hTERT</td><td>Olivieri</td><td> 39</td></tr>\n",
       "\t<tr><td>IR          </td><td>RPE1-hTERT</td><td>Olivieri</td><td> 18</td></tr>\n",
       "\t<tr><td>KBrO3       </td><td>RPE1-hTERT</td><td>Olivieri</td><td>162</td></tr>\n",
       "\t<tr><td>Olaparib    </td><td>RPE1-hTERT</td><td>Olivieri</td><td> 21</td></tr>\n",
       "\t<tr><td>UV          </td><td>RPE1-hTERT</td><td>Olivieri</td><td>114</td></tr>\n",
       "\t<tr><td>VE821       </td><td>HCT116    </td><td>Hustedt </td><td> 13</td></tr>\n",
       "\t<tr><td>VE821       </td><td>HeLa      </td><td>Hustedt </td><td>  7</td></tr>\n",
       "\t<tr><td>VE821       </td><td>RPE1-hTERT</td><td>Hustedt </td><td>125</td></tr>\n",
       "</tbody>\n",
       "</table>\n"
      ],
      "text/latex": [
       "A data.frame: 13 × 4\n",
       "\\begin{tabular}{llll}\n",
       " treatment & cell\\_line & paper & n\\\\\n",
       " <chr> & <chr> & <chr> & <int>\\\\\n",
       "\\hline\n",
       "\t AZD6738      & RPE1-hTERT & Hustedt  &  76\\\\\n",
       "\t AZD6738      & RPE1-hTERT & Olivieri &  84\\\\\n",
       "\t Cisplatin1   & RPE1-hTERT & Olivieri &  52\\\\\n",
       "\t Cisplatin2   & RPE1-hTERT & Olivieri & 104\\\\\n",
       "\t Cisplatin3   & RPE1-hTERT & Olivieri & 124\\\\\n",
       "\t Formaldehyde & RPE1-hTERT & Olivieri &  39\\\\\n",
       "\t IR           & RPE1-hTERT & Olivieri &  18\\\\\n",
       "\t KBrO3        & RPE1-hTERT & Olivieri & 162\\\\\n",
       "\t Olaparib     & RPE1-hTERT & Olivieri &  21\\\\\n",
       "\t UV           & RPE1-hTERT & Olivieri & 114\\\\\n",
       "\t VE821        & HCT116     & Hustedt  &  13\\\\\n",
       "\t VE821        & HeLa       & Hustedt  &   7\\\\\n",
       "\t VE821        & RPE1-hTERT & Hustedt  & 125\\\\\n",
       "\\end{tabular}\n"
      ],
      "text/markdown": [
       "\n",
       "A data.frame: 13 × 4\n",
       "\n",
       "| treatment &lt;chr&gt; | cell_line &lt;chr&gt; | paper &lt;chr&gt; | n &lt;int&gt; |\n",
       "|---|---|---|---|\n",
       "| AZD6738      | RPE1-hTERT | Hustedt  |  76 |\n",
       "| AZD6738      | RPE1-hTERT | Olivieri |  84 |\n",
       "| Cisplatin1   | RPE1-hTERT | Olivieri |  52 |\n",
       "| Cisplatin2   | RPE1-hTERT | Olivieri | 104 |\n",
       "| Cisplatin3   | RPE1-hTERT | Olivieri | 124 |\n",
       "| Formaldehyde | RPE1-hTERT | Olivieri |  39 |\n",
       "| IR           | RPE1-hTERT | Olivieri |  18 |\n",
       "| KBrO3        | RPE1-hTERT | Olivieri | 162 |\n",
       "| Olaparib     | RPE1-hTERT | Olivieri |  21 |\n",
       "| UV           | RPE1-hTERT | Olivieri | 114 |\n",
       "| VE821        | HCT116     | Hustedt  |  13 |\n",
       "| VE821        | HeLa       | Hustedt  |   7 |\n",
       "| VE821        | RPE1-hTERT | Hustedt  | 125 |\n",
       "\n"
      ],
      "text/plain": [
       "   treatment    cell_line  paper    n  \n",
       "1  AZD6738      RPE1-hTERT Hustedt   76\n",
       "2  AZD6738      RPE1-hTERT Olivieri  84\n",
       "3  Cisplatin1   RPE1-hTERT Olivieri  52\n",
       "4  Cisplatin2   RPE1-hTERT Olivieri 104\n",
       "5  Cisplatin3   RPE1-hTERT Olivieri 124\n",
       "6  Formaldehyde RPE1-hTERT Olivieri  39\n",
       "7  IR           RPE1-hTERT Olivieri  18\n",
       "8  KBrO3        RPE1-hTERT Olivieri 162\n",
       "9  Olaparib     RPE1-hTERT Olivieri  21\n",
       "10 UV           RPE1-hTERT Olivieri 114\n",
       "11 VE821        HCT116     Hustedt   13\n",
       "12 VE821        HeLa       Hustedt    7\n",
       "13 VE821        RPE1-hTERT Hustedt  125"
      ]
     },
     "metadata": {},
     "output_type": "display_data"
    }
   ],
   "source": [
    "# filter merged to include  normZ values <= -2.5 and FDR < 0.1\n",
    "merged_filtered <- merged[merged$normz <= -2.5 & merged$fdr < 0.1, ]\n",
    "\n",
    "# Count the number of genes in each treatment and cell line for each paper\n",
    "merged_filtered %>% count(treatment, cell_line, paper)"
   ]
  },
  {
   "attachments": {},
   "cell_type": "markdown",
   "metadata": {},
   "source": [
    "## 3d) I would prioritise genes which have lower normZ scores and which are present in the most treatments. I would also prioritise those genes with low normZ scores which were similar between cell lines."
   ]
  },
  {
   "attachments": {},
   "cell_type": "markdown",
   "metadata": {},
   "source": [
    "## 3e) I would visualise top synthetic lethal genes using a heatmap of gene vs treatment coloured by normZ score"
   ]
  },
  {
   "attachments": {},
   "cell_type": "markdown",
   "metadata": {},
   "source": [
    "# 4) You could explore the genes with the highest normZ scores (resistant genes). You could test which genes were most stably synthetic lethal or resistant across different treatments, and look at which genes were synthetic lethal or resistant with only certain treatments. You could also check whether the same genes were found to be most synthetic lethal/resistance between the two datasets."
   ]
  },
  {
   "attachments": {},
   "cell_type": "markdown",
   "metadata": {},
   "source": [
    "# 5)"
   ]
  },
  {
   "attachments": {},
   "cell_type": "markdown",
   "metadata": {},
   "source": [
    "## 5a) no the ATRi treatments are not more similar to each other compared to other non-ATRi treatments (looking at the distributions). Differences between cell lines are larger."
   ]
  },
  {
   "attachments": {},
   "cell_type": "markdown",
   "metadata": {},
   "source": [
    "## 5b) top 5 scoring genes are POLE3/4, RAD1, ATG9A and LCMT1"
   ]
  },
  {
   "cell_type": "code",
   "execution_count": 71,
   "metadata": {
    "vscode": {
     "languageId": "r"
    }
   },
   "outputs": [
    {
     "data": {
      "text/html": [
       "<table class=\"dataframe\">\n",
       "<caption>A data.frame: 6 × 6</caption>\n",
       "<thead>\n",
       "\t<tr><th></th><th scope=col>gene</th><th scope=col>cell_line</th><th scope=col>treatment</th><th scope=col>normz</th><th scope=col>fdr</th><th scope=col>paper</th></tr>\n",
       "\t<tr><th></th><th scope=col>&lt;chr&gt;</th><th scope=col>&lt;chr&gt;</th><th scope=col>&lt;chr&gt;</th><th scope=col>&lt;dbl&gt;</th><th scope=col>&lt;dbl&gt;</th><th scope=col>&lt;chr&gt;</th></tr>\n",
       "</thead>\n",
       "<tbody>\n",
       "\t<tr><th scope=row>145163</th><td>POLE4</td><td>RPE1-hTERT</td><td>AZD6738</td><td>-18.70</td><td>4.48e-74</td><td>Hustedt </td></tr>\n",
       "\t<tr><th scope=row>145150</th><td>POLE3</td><td>RPE1-hTERT</td><td>AZD6738</td><td>-14.53</td><td>3.64e-44</td><td>Hustedt </td></tr>\n",
       "\t<tr><th scope=row>154350</th><td>RAD1 </td><td>RPE1-hTERT</td><td>AZD6738</td><td>-13.28</td><td>8.40e-37</td><td>Olivieri</td></tr>\n",
       "\t<tr><th scope=row>14036</th><td>ATG9A</td><td>RPE1-hTERT</td><td>VE821  </td><td>-12.52</td><td>4.57e-32</td><td>Hustedt </td></tr>\n",
       "\t<tr><th scope=row>145160</th><td>POLE3</td><td>RPE1-hTERT</td><td>VE821  </td><td>-11.57</td><td>2.30e-27</td><td>Hustedt </td></tr>\n",
       "\t<tr><th scope=row>102051</th><td>LCMT1</td><td>RPE1-hTERT</td><td>AZD6738</td><td>-10.72</td><td>1.81e-23</td><td>Hustedt </td></tr>\n",
       "</tbody>\n",
       "</table>\n"
      ],
      "text/latex": [
       "A data.frame: 6 × 6\n",
       "\\begin{tabular}{r|llllll}\n",
       "  & gene & cell\\_line & treatment & normz & fdr & paper\\\\\n",
       "  & <chr> & <chr> & <chr> & <dbl> & <dbl> & <chr>\\\\\n",
       "\\hline\n",
       "\t145163 & POLE4 & RPE1-hTERT & AZD6738 & -18.70 & 4.48e-74 & Hustedt \\\\\n",
       "\t145150 & POLE3 & RPE1-hTERT & AZD6738 & -14.53 & 3.64e-44 & Hustedt \\\\\n",
       "\t154350 & RAD1  & RPE1-hTERT & AZD6738 & -13.28 & 8.40e-37 & Olivieri\\\\\n",
       "\t14036 & ATG9A & RPE1-hTERT & VE821   & -12.52 & 4.57e-32 & Hustedt \\\\\n",
       "\t145160 & POLE3 & RPE1-hTERT & VE821   & -11.57 & 2.30e-27 & Hustedt \\\\\n",
       "\t102051 & LCMT1 & RPE1-hTERT & AZD6738 & -10.72 & 1.81e-23 & Hustedt \\\\\n",
       "\\end{tabular}\n"
      ],
      "text/markdown": [
       "\n",
       "A data.frame: 6 × 6\n",
       "\n",
       "| <!--/--> | gene &lt;chr&gt; | cell_line &lt;chr&gt; | treatment &lt;chr&gt; | normz &lt;dbl&gt; | fdr &lt;dbl&gt; | paper &lt;chr&gt; |\n",
       "|---|---|---|---|---|---|---|\n",
       "| 145163 | POLE4 | RPE1-hTERT | AZD6738 | -18.70 | 4.48e-74 | Hustedt  |\n",
       "| 145150 | POLE3 | RPE1-hTERT | AZD6738 | -14.53 | 3.64e-44 | Hustedt  |\n",
       "| 154350 | RAD1  | RPE1-hTERT | AZD6738 | -13.28 | 8.40e-37 | Olivieri |\n",
       "| 14036 | ATG9A | RPE1-hTERT | VE821   | -12.52 | 4.57e-32 | Hustedt  |\n",
       "| 145160 | POLE3 | RPE1-hTERT | VE821   | -11.57 | 2.30e-27 | Hustedt  |\n",
       "| 102051 | LCMT1 | RPE1-hTERT | AZD6738 | -10.72 | 1.81e-23 | Hustedt  |\n",
       "\n"
      ],
      "text/plain": [
       "       gene  cell_line  treatment normz  fdr      paper   \n",
       "145163 POLE4 RPE1-hTERT AZD6738   -18.70 4.48e-74 Hustedt \n",
       "145150 POLE3 RPE1-hTERT AZD6738   -14.53 3.64e-44 Hustedt \n",
       "154350 RAD1  RPE1-hTERT AZD6738   -13.28 8.40e-37 Olivieri\n",
       "14036  ATG9A RPE1-hTERT VE821     -12.52 4.57e-32 Hustedt \n",
       "145160 POLE3 RPE1-hTERT VE821     -11.57 2.30e-27 Hustedt \n",
       "102051 LCMT1 RPE1-hTERT AZD6738   -10.72 1.81e-23 Hustedt "
      ]
     },
     "metadata": {},
     "output_type": "display_data"
    }
   ],
   "source": [
    "# filter merged_filtered to include only AZD6738 and VE821 treatment\n",
    "merged_filtered_atri <- merged_filtered[merged_filtered$treatment == \"AZD6738\" | merged_filtered$treatment == \"VE821\", ]\n",
    "\n",
    "\n",
    "# rank by normZ, ascending\n",
    "merged_filtered_atri_ranked <- merged_filtered_atri[order(merged_filtered_atri$normz), ]\n",
    "\n",
    "# remove duplicates, ignoring paper\n",
    "merged_filtered_atri_nodups <- merged_filtered_atri_ranked[!duplicated(merged_filtered_atri_ranked[, 1:5]), ]\n",
    "\n",
    "head(merged_filtered_atri_nodups)"
   ]
  },
  {
   "cell_type": "code",
   "execution_count": 72,
   "metadata": {
    "vscode": {
     "languageId": "r"
    }
   },
   "outputs": [
    {
     "data": {
      "text/html": [
       "<style>\n",
       ".list-inline {list-style: none; margin:0; padding: 0}\n",
       ".list-inline>li {display: inline-block}\n",
       ".list-inline>li:not(:last-child)::after {content: \"\\00b7\"; padding: 0 .5ex}\n",
       "</style>\n",
       "<ol class=list-inline><li>'RPE1-hTERT'</li><li>'HCT116'</li><li>'HeLa'</li></ol>\n"
      ],
      "text/latex": [
       "\\begin{enumerate*}\n",
       "\\item 'RPE1-hTERT'\n",
       "\\item 'HCT116'\n",
       "\\item 'HeLa'\n",
       "\\end{enumerate*}\n"
      ],
      "text/markdown": [
       "1. 'RPE1-hTERT'\n",
       "2. 'HCT116'\n",
       "3. 'HeLa'\n",
       "\n",
       "\n"
      ],
      "text/plain": [
       "[1] \"RPE1-hTERT\" \"HCT116\"     \"HeLa\"      "
      ]
     },
     "metadata": {},
     "output_type": "display_data"
    }
   ],
   "source": [
    "#get unique cell lines merged_filtered_atri\n",
    "unique(merged_filtered_atri$cell_line)"
   ]
  },
  {
   "attachments": {},
   "cell_type": "markdown",
   "metadata": {},
   "source": [
    "## 5c) consensus genes would be those that are the top ranked in both ATRi treatments i) I would expect cell line specific effects too, which might be due to batch or biological effects specific to each cell line"
   ]
  },
  {
   "attachments": {},
   "cell_type": "markdown",
   "metadata": {},
   "source": [
    "## 5d) You could check whether genes were enriched in a certain molecular pathway using a Gene Ontology / pathway enrichment analysis"
   ]
  },
  {
   "cell_type": "markdown",
   "metadata": {},
   "source": []
  }
 ],
 "metadata": {
  "kernelspec": {
   "display_name": "R",
   "language": "R",
   "name": "ir"
  },
  "language_info": {
   "codemirror_mode": "r",
   "file_extension": ".r",
   "mimetype": "text/x-r-source",
   "name": "R",
   "pygments_lexer": "r",
   "version": "4.1.2"
  },
  "orig_nbformat": 4,
  "vscode": {
   "interpreter": {
    "hash": "abb4a3ee8046d2374a4ba0586ebd911027f5096c2278397f3bc588a9004a08d9"
   }
  }
 },
 "nbformat": 4,
 "nbformat_minor": 2
}
